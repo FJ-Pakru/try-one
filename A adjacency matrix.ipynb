{
 "cells": [
  {
   "cell_type": "code",
   "execution_count": 7,
   "metadata": {},
   "outputs": [
    {
     "name": "stdout",
     "output_type": "stream",
     "text": [
      "[[0. 1. 0. 0. 1. 0. 0. 0. 0. 0.]\n",
      " [0. 0. 1. 0. 0. 0. 0. 0. 0. 0.]\n",
      " [1. 0. 0. 0. 0. 0. 0. 0. 0. 0.]\n",
      " [0. 0. 0. 0. 1. 0. 1. 0. 0. 0.]\n",
      " [1. 0. 0. 1. 0. 0. 0. 1. 0. 0.]\n",
      " [0. 0. 0. 1. 0. 0. 0. 1. 0. 0.]\n",
      " [0. 0. 0. 0. 0. 1. 0. 0. 0. 0.]\n",
      " [0. 0. 0. 0. 1. 0. 0. 0. 1. 0.]\n",
      " [0. 0. 0. 0. 0. 1. 0. 0. 0. 1.]\n",
      " [0. 0. 0. 0. 0. 0. 0. 0. 1. 0.]]\n"
     ]
    }
   ],
   "source": [
    "edges = [(0,1) , (0,4) , (1,2), (2,0) ,\n",
    "(3,4) , (3,6), (4,0),(4,3),\n",
    "(4,7) , (5,3), (5,7),\n",
    "(6,5) , (7,4) , (7,8) ,\n",
    "(8,5) , (8,9) , (9,8)]\n",
    "import numpy as np\n",
    "\n",
    "A= np.zeros(shape=(10,10))\n",
    "for (i,j) in edges:\n",
    "    A[i,j] = 1\n",
    "print(A)"
   ]
  },
  {
   "cell_type": "code",
   "execution_count": 12,
   "metadata": {},
   "outputs": [
    {
     "name": "stdout",
     "output_type": "stream",
     "text": [
      "before  (i,j)= (0, 1) A[i,j]= 0.0\n",
      "0 1\n",
      "after  (0, 1) 1.0\n",
      "before  (i,j)= (0, 4) A[i,j]= 0.0\n",
      "0 4\n",
      "after  (0, 4) 1.0\n",
      "before  (i,j)= (1, 2) A[i,j]= 0.0\n",
      "1 2\n",
      "after  (1, 2) 1.0\n",
      "before  (i,j)= (2, 0) A[i,j]= 0.0\n",
      "2 0\n",
      "after  (2, 0) 1.0\n",
      "before  (i,j)= (3, 4) A[i,j]= 0.0\n",
      "3 4\n",
      "after  (3, 4) 1.0\n",
      "before  (i,j)= (3, 6) A[i,j]= 0.0\n",
      "3 6\n",
      "after  (3, 6) 1.0\n",
      "before  (i,j)= (4, 0) A[i,j]= 0.0\n",
      "4 0\n",
      "after  (4, 0) 1.0\n",
      "before  (i,j)= (4, 3) A[i,j]= 0.0\n",
      "4 3\n",
      "after  (4, 3) 1.0\n",
      "before  (i,j)= (4, 7) A[i,j]= 0.0\n",
      "4 7\n",
      "after  (4, 7) 1.0\n",
      "before  (i,j)= (5, 3) A[i,j]= 0.0\n",
      "5 3\n",
      "after  (5, 3) 1.0\n",
      "before  (i,j)= (5, 7) A[i,j]= 0.0\n",
      "5 7\n",
      "after  (5, 7) 1.0\n",
      "before  (i,j)= (6, 5) A[i,j]= 0.0\n",
      "6 5\n",
      "after  (6, 5) 1.0\n",
      "before  (i,j)= (7, 4) A[i,j]= 0.0\n",
      "7 4\n",
      "after  (7, 4) 1.0\n",
      "before  (i,j)= (7, 8) A[i,j]= 0.0\n",
      "7 8\n",
      "after  (7, 8) 1.0\n",
      "before  (i,j)= (8, 5) A[i,j]= 0.0\n",
      "8 5\n",
      "after  (8, 5) 1.0\n",
      "before  (i,j)= (8, 9) A[i,j]= 0.0\n",
      "8 9\n",
      "after  (8, 9) 1.0\n",
      "before  (i,j)= (9, 8) A[i,j]= 0.0\n",
      "9 8\n",
      "after  (9, 8) 1.0\n",
      "[[0. 1. 0. 0. 1. 0. 0. 0. 0. 0.]\n",
      " [0. 0. 1. 0. 0. 0. 0. 0. 0. 0.]\n",
      " [1. 0. 0. 0. 0. 0. 0. 0. 0. 0.]\n",
      " [0. 0. 0. 0. 1. 0. 1. 0. 0. 0.]\n",
      " [1. 0. 0. 1. 0. 0. 0. 1. 0. 0.]\n",
      " [0. 0. 0. 1. 0. 0. 0. 1. 0. 0.]\n",
      " [0. 0. 0. 0. 0. 1. 0. 0. 0. 0.]\n",
      " [0. 0. 0. 0. 1. 0. 0. 0. 1. 0.]\n",
      " [0. 0. 0. 0. 0. 1. 0. 0. 0. 1.]\n",
      " [0. 0. 0. 0. 0. 0. 0. 0. 1. 0.]]\n"
     ]
    },
    {
     "data": {
      "text/plain": [
       "[4, 8]"
      ]
     },
     "execution_count": 12,
     "metadata": {},
     "output_type": "execute_result"
    }
   ],
   "source": [
    "import numpy as np\n",
    "def neighbours (AMat, i):\n",
    "    nbrs =[]\n",
    "    (rows, cols) = AMat. shape\n",
    "    for j in range(cols):\n",
    "         if AMat [i, j]==1:\n",
    "\n",
    "                nbrs. append (j)\n",
    "    return(nbrs)\n",
    "edges = [(0,1) , (0,4) , (1,2), (2,0) ,\n",
    "(3,4) , (3,6), (4,0),(4,3),\n",
    "(4,7) , (5,3), (5,7),\n",
    "(6,5) , (7,4) , (7,8) ,\n",
    "(8,5) , (8,9) , (9,8)]\n",
    "\n",
    "\n",
    "A= np.zeros(shape=(10,10))\n",
    "for (i,j) in edges:\n",
    "    print(\"before \",\"(i,j)=\",(i,j),\"A[i,j]=\",A[i,j])\n",
    "    #print(type((i,j)))\n",
    "    print(i,j)\n",
    "    A[i,j] = 1\n",
    "    print(\"after \",(i,j),A[i,j])\n",
    "print(A)\n",
    "neighbours (A,7)\n"
   ]
  },
  {
   "cell_type": "code",
   "execution_count": null,
   "metadata": {
    "slideshow": {
     "slide_type": "slide"
    }
   },
   "outputs": [],
   "source": []
  },
  {
   "cell_type": "code",
   "execution_count": null,
   "metadata": {},
   "outputs": [],
   "source": []
  }
 ],
 "metadata": {
  "celltoolbar": "Slideshow",
  "kernelspec": {
   "display_name": "Python 3 (ipykernel)",
   "language": "python",
   "name": "python3"
  },
  "language_info": {
   "codemirror_mode": {
    "name": "ipython",
    "version": 3
   },
   "file_extension": ".py",
   "mimetype": "text/x-python",
   "name": "python",
   "nbconvert_exporter": "python",
   "pygments_lexer": "ipython3",
   "version": "3.9.10+"
  }
 },
 "nbformat": 4,
 "nbformat_minor": 2
}
